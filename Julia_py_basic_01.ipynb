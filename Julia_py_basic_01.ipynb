{
 "cells": [
  {
   "cell_type": "markdown",
   "metadata": {},
   "source": [
    "PYTHON Basics\n"
   ]
  },
  {
   "cell_type": "markdown",
   "metadata": {},
   "source": [
    "What are all covered here\n",
    "\n",
    "Print Function /n\n",
    "Input function /n\n",
    "length fun  /n\n",
    "data types --int,float,boolean,string /n\n",
    "string conversion-- %s,%d,%f  /n\n",
    "Condition statements-- IF,Elseif,Else conditions   /n\n",
    "Round function   /n\n",
    "f strings   /n\n",
    "concatenation   /n\n",
    "\n",
    "\n"
   ]
  },
  {
   "cell_type": "code",
   "execution_count": 42,
   "metadata": {},
   "outputs": [
    {
     "name": "stdout",
     "output_type": "stream",
     "text": [
      "Hello World, I am Chethan\n"
     ]
    }
   ],
   "source": [
    "#Basic print function\n",
    "print(\"Hello World\" \", \" \"I am Chethan\")"
   ]
  },
  {
   "cell_type": "code",
   "execution_count": 44,
   "metadata": {},
   "outputs": [
    {
     "name": "stdin",
     "output_type": "stream",
     "text": [
      "Enter the first number:  52\n",
      "Enter the second number:  45\n"
     ]
    },
    {
     "name": "stdout",
     "output_type": "stream",
     "text": [
      "The product is: 2340\n"
     ]
    }
   ],
   "source": [
    "num1 = int(input(\"Enter the first number: \"))\n",
    "num2 = int(input(\"Enter the second number: \"))\n",
    "print(\"The product is:\", num1 * num2)\n",
    "\n"
   ]
  },
  {
   "cell_type": "code",
   "execution_count": null,
   "metadata": {},
   "outputs": [],
   "source": [
    "name =input(\"whats your name\")\n",
    "# lenght function\n",
    "print(len(name))   # get the length of the input name\n",
    "#indexing concept\n",
    "print(name[0]) # its called indexing,which will give the first letter of the input name and index starts from 0\n"
   ]
  },
  {
   "cell_type": "code",
   "execution_count": null,
   "metadata": {},
   "outputs": [],
   "source": [
    "#Day-1 project band name generator \n",
    "\n",
    "print(\"Welcome to the Band Name Generator.\")\n",
    "street = input(\"What's the name of the city you grew up in?\\n\")\n",
    "pet = input(\"What's your pet's name?\\n\")\n",
    "print(\"Your band name could be \" + street + \" \" + pet)"
   ]
  },
  {
   "cell_type": "markdown",
   "metadata": {},
   "source": [
    "DAY -02 "
   ]
  },
  {
   "cell_type": "code",
   "execution_count": null,
   "metadata": {},
   "outputs": [],
   "source": [
    "#DATA TYPES\n",
    "\n",
    "# STRINGS\n",
    "\n",
    "  # %s is used to convert anything to string.\n",
    "print(\"Welcome to the world of %s.\"%'IT')   \n",
    "print('profit is %s.'%2.5)\n",
    "  # %d converts anything to integer\n",
    "print('profit is %d.'%2.5)\n",
    "\n",
    "#Padding and Precision \n",
    "    #%f is a floating point number repesentation.\n",
    "print('profit is %f.'%2.501)\n",
    "print('profit is %5.2f' %2.501)   # 5.2f here 5 is padding (space) and .2 is a precision.\n",
    "\n",
    "#INTEGER\n",
    "print(\"123\" + \"345\")    # its not int its a string and its will concatenate.\n",
    "print(123 + 345)        # its an integer and it will add\n",
    "\n",
    "#FLOATING POINT NUMBER\n",
    "\n",
    "a=123.4\n",
    "print(type(a))\n",
    "print(45 +float(\"123.5\"))\n",
    "\n",
    "#BOOLEAN \n",
    "  # true/false\n",
    "\n",
    "\n",
    "\n",
    "\n",
    "   "
   ]
  },
  {
   "cell_type": "code",
   "execution_count": null,
   "metadata": {},
   "outputs": [],
   "source": [
    "#OTHER FUNCTIONS AND MATHEMATICAL OPERATORS\n",
    "\n",
    "#converting function  example\n",
    "two_digit_number = input()\n",
    "\n",
    "print(type(two_digit_number))\n",
    "first_digit=int(two_digit_number[0])\n",
    "second_digit=int(two_digit_number[1])\n",
    "output=print(first_digit+second_digit)\n",
    "\n",
    "#Round function\n",
    "print(8/3)            # type float & output will be float\n",
    "print(8//3) \t      # type int  &output will be int\n",
    "print (int(8/3))      # output will be int\n",
    "print(round(8/3))     # float type & it will round the number \n",
    "print(round(8/3),2)\t  # round the number by 2 decimal.\n",
    "\n",
    "#example\n",
    "score =0\n",
    "print(\"your scor is\" +score)        # it will show error b/c score is a int and we have to convert this as string to execute so\n",
    "print(\"your scor is\" +str(score))   # output will is correct\n",
    "\n",
    "# Mathematical operations in Phython\n",
    "\t\n",
    "# addition    # 3+6           print(int(3+6))\n",
    "# subtraction\t# 6-5\t\t\t\n",
    "# multplication #3*6 \t\t\tprint(int(3*6))          \n",
    "# division\t# 6/3 \t\t\tprint(float(6/3)), print(round(6/3))     \n",
    "# PEDMAS(Parenthesis,Exponential,Division,Multplication,Subtraction)"
   ]
  },
  {
   "cell_type": "code",
   "execution_count": null,
   "metadata": {},
   "outputs": [],
   "source": [
    "#Body mass Index calculator programme\n",
    "    \n",
    "height = input()\n",
    "weight = input()\n",
    "# Your code below this line 👇\n",
    "weight_as_int = int(weight)\n",
    "height_as_float = float(height)\n",
    "# Using the exponent operator **\n",
    "bmi = weight_as_int / height_as_float ** 2\n",
    "# or using multiplication and PEMDAS\n",
    "bmi = weight_as_int / (height_as_float * height_as_float)\n",
    "\n",
    "bmi_as_int = int(bmi)\n",
    "print(bmi_as_int)   "
   ]
  },
  {
   "cell_type": "code",
   "execution_count": 29,
   "metadata": {},
   "outputs": [
    {
     "name": "stdin",
     "output_type": "stream",
     "text": [
      "Whats your age: 52.6\n"
     ]
    },
    {
     "name": "stdout",
     "output_type": "stream",
     "text": [
      "You have 1976 weeks left.\n"
     ]
    }
   ],
   "source": [
    "# F-STRINGS\n",
    "\t# by using f string we can convert all the other data types to sring\n",
    "age = int(float((input(\"Whats your age:\"))))  # there is no direct conversion from float to integer\n",
    "years = 90 - age\n",
    "weeks = years * 52\n",
    "print(f\"You have {weeks} weeks left.\")"
   ]
  },
  {
   "cell_type": "code",
   "execution_count": 4,
   "metadata": {},
   "outputs": [
    {
     "name": "stdout",
     "output_type": "stream",
     "text": [
      "Welcome to the tip calculator!\n"
     ]
    },
    {
     "name": "stdin",
     "output_type": "stream",
     "text": [
      "What was the total bill? $ 25\n",
      "How much tip would you like to give? 10, 12, or 15?  12\n",
      "How many people to split the bill? 6\n"
     ]
    },
    {
     "name": "stdout",
     "output_type": "stream",
     "text": [
      "each person has to pay 4.67\n"
     ]
    }
   ],
   "source": [
    "# Final Project of Day 2 -Tip Calculator.\n",
    "\t\t#If the bill was $150.00, split between 5 people, with 12% tip. \n",
    "\t\t#Each person should pay (150.00 / 5) * 1.12 = 33.6\n",
    "\t\t#Round the result to 2 decimal places.\n",
    "\n",
    "\n",
    "\n",
    "print(\"Welcome to the tip calculator!\")\n",
    "bill = float(input(\"What was the total bill? $\"))\n",
    "tip = int(input(\"How much tip would you like to give? 10, 12, or 15? \"))\n",
    "people = int(input(\"How many people to split the bill?\"))\n",
    "\n",
    "tip_as_percent = tip / 100\n",
    "total_tip_amount = bill * tip_as_percent\n",
    "total_bill = bill + total_tip_amount\n",
    "bill_per_person = total_bill / people\n",
    "final_amount = round(bill_per_person, 2)\t\t\t# FAQ: How to round to 2 decimal places?\n",
    "print(f\"each person has to pay {final_amount}\")"
   ]
  },
  {
   "cell_type": "markdown",
   "metadata": {},
   "source": [
    "DAY-03    \n",
    "\n",
    "    Conditional Statements and Logical Operators"
   ]
  },
  {
   "cell_type": "code",
   "execution_count": 3,
   "metadata": {},
   "outputs": [
    {
     "name": "stdout",
     "output_type": "stream",
     "text": [
      "welcome to the rollercoaster ride\n"
     ]
    },
    {
     "name": "stdin",
     "output_type": "stream",
     "text": [
      "whats your height in cm? 170\n"
     ]
    },
    {
     "name": "stdout",
     "output_type": "stream",
     "text": [
      "you can ride\n"
     ]
    },
    {
     "name": "stdin",
     "output_type": "stream",
     "text": [
      " 165\n"
     ]
    },
    {
     "name": "stdout",
     "output_type": "stream",
     "text": [
      "This is an odd number.\n"
     ]
    }
   ],
   "source": [
    "# Conditional Statements.\n",
    " \t\t# 1.IF \n",
    " \t\t# 2.Else\n",
    " \t\t# 3.Else If\n",
    "\n",
    "#Operators                   Meaning\n",
    "        #  >\t\t\t\t  GreaterThan\n",
    "        #  <\t\t\t\t  Less Than\n",
    "        #  >=\t\t\t\t  Greaterthan or equal too\n",
    "        #  <=\t\t\t\t  Lessthan or equal to\n",
    "        #  ==\t\t\t\t  LHS = RHS(EQUAL Sign)\n",
    "        #  =\t\t\t\t  assign RHS(Right hand side) to LHS(left hand side)  Assigning the value \n",
    "\n",
    "\n",
    "\n",
    "#example 01  Rollercoaster ride\n",
    "\n",
    "print(\"welcome to the rollercoaster ride\")\n",
    "height =int(input(\"whats your height in cm?\"))\n",
    "\n",
    "if height >120:\n",
    "    print(\"you can ride\")\n",
    "else:\n",
    "    print(\"you cant ride\")\n",
    "##################################################################\n",
    "# Example 2 check whther fun is even or odd\n",
    "\n",
    "# Which number do you want to check?\n",
    "number = int(input())\n",
    "\n",
    "# If the number can be divided by 2 with 0 remainder.\n",
    "if number % 2 == 0:\n",
    "  \tprint(\"This is an even number.\")\n",
    "# Otherwise (number cannot be divided by 2 with 0 remainder).\n",
    "else:\n",
    "  \tprint(\"This is an odd number.\")"
   ]
  },
  {
   "cell_type": "code",
   "execution_count": 33,
   "metadata": {},
   "outputs": [
    {
     "name": "stdin",
     "output_type": "stream",
     "text": [
      "Whats your height: 630\n",
      "Whats your weight: 524\n"
     ]
    },
    {
     "name": "stdout",
     "output_type": "stream",
     "text": [
      "Your BMI is 0.0013202317964222726, you are underweight.\n"
     ]
    }
   ],
   "source": [
    "#example -04 BMI (body mass index)\n",
    "\n",
    "\n",
    "#Write your code below this line 👇\n",
    "height = float(input(\"Whats your height:\"))  # in meters e.g., 1.55\n",
    "weight = int(input(\"Whats your weight:\"))  # in kilograms e.g., 72\n",
    "# Your code below this line 👇\n",
    "bmi = weight / (height * height)\n",
    "if bmi < 18.5:\n",
    "  print(f\"Your BMI is {bmi}, you are underweight.\")\n",
    "elif bmi < 25:\n",
    "  print(f\"Your BMI is {bmi}, you have a normal weight.\")\n",
    "elif bmi < 30:\n",
    "  print(f\"Your BMI is {bmi}, you are slightly overweight.\")\n",
    "elif bmi < 35:\n",
    "  print(f\"Your BMI is {bmi}, you are obese.\")\n",
    "else:\n",
    "  print(f\"Your BMI is {bmi}, you are clinically obese.\")"
   ]
  },
  {
   "cell_type": "code",
   "execution_count": 35,
   "metadata": {},
   "outputs": [
    {
     "name": "stdin",
     "output_type": "stream",
     "text": [
      "Enter the year: 52\n"
     ]
    },
    {
     "name": "stdout",
     "output_type": "stream",
     "text": [
      "Leap year\n"
     ]
    }
   ],
   "source": [
    "# example 05 :leap year find out\n",
    "\n",
    "year = int(input(\"Enter the year:\"))\n",
    "\n",
    "if year % 4 == 0:\n",
    "  if year % 100 == 0:\n",
    "    if year % 400 == 0:\n",
    "      print(\"Leap year\")\n",
    "    else:\n",
    "      print(\"Not leap year\")\n",
    "  else:\n",
    "    print(\"Leap year\")\n",
    "else:\n",
    "  print(\"Not leap year\")"
   ]
  },
  {
   "cell_type": "code",
   "execution_count": 13,
   "metadata": {},
   "outputs": [
    {
     "name": "stdout",
     "output_type": "stream",
     "text": [
      "Welcome to the rollercoaster!\n"
     ]
    },
    {
     "name": "stdin",
     "output_type": "stream",
     "text": [
      "What is your height in cm?  125\n"
     ]
    },
    {
     "name": "stdout",
     "output_type": "stream",
     "text": [
      "You can ride the rollercoaster!\n"
     ]
    },
    {
     "name": "stdin",
     "output_type": "stream",
     "text": [
      "What is your age?  125\n"
     ]
    },
    {
     "name": "stdout",
     "output_type": "stream",
     "text": [
      "Adult tickets are $12.\n"
     ]
    },
    {
     "name": "stdin",
     "output_type": "stream",
     "text": [
      "Do you want a photo taken? Y or N.  Y\n"
     ]
    },
    {
     "name": "stdout",
     "output_type": "stream",
     "text": [
      "Your final bill is $15\n"
     ]
    }
   ],
   "source": [
    "# example 06 rollercoaster with so many nested conditions.\n",
    "\n",
    "print(\"Welcome to the rollercoaster!\")\n",
    "height = int(input(\"What is your height in cm? \"))\n",
    "bill = 0\n",
    "\n",
    "if height >= 120:\n",
    "  print(\"You can ride the rollercoaster!\")\n",
    "  age = int(input(\"What is your age? \"))\n",
    "  if age < 12:\n",
    "    bill = 5\n",
    "    print(\"Child tickets are $5.\")\n",
    "  elif age <= 18:\n",
    "    bill = 7\n",
    "    print(\"Youth tickets are $7.\")\n",
    "  else:\n",
    "    bill = 12\n",
    "    print(\"Adult tickets are $12.\")\n",
    "  \n",
    "  wants_photo = input(\"Do you want a photo taken? Y or N. \")\n",
    "  if wants_photo == \"Y\":\n",
    "    bill += 3\n",
    "  \n",
    "  print(f\"Your final bill is ${bill}\")\n",
    "\n",
    "else:\n",
    "  print(\"Sorry, you have to grow taller before you can ride.\")"
   ]
  },
  {
   "cell_type": "code",
   "execution_count": 17,
   "metadata": {},
   "outputs": [
    {
     "name": "stdout",
     "output_type": "stream",
     "text": [
      "Thank you for choosing Python Pizza Deliveries!\n"
     ]
    },
    {
     "name": "stdin",
     "output_type": "stream",
     "text": [
      " S\n",
      " Y\n",
      " Y\n"
     ]
    },
    {
     "name": "stdout",
     "output_type": "stream",
     "text": [
      "Your final bill is: $18.\n"
     ]
    }
   ],
   "source": [
    "# example 07 :Pizza delivery \n",
    "\n",
    "print(\"Thank you for choosing Python Pizza Deliveries!\")\n",
    "size = input()  # What size pizza do you want? \"S\", \"M\", or \"L\"\n",
    "add_pepperoni = input()  # Do you want pepperoni? \"Y\" or \"N\"\n",
    "extra_cheese = input()  # Do you want extra cheese? \"Y\" or \"N\"\n",
    "\n",
    "# Your code below this line 👇\n",
    "bill = 0\n",
    "if size == \"S\":\n",
    "  bill += 15\n",
    "elif size == \"M\":\n",
    "  bill += 20\n",
    "else:\n",
    "  bill += 25\n",
    "\n",
    "if add_pepperoni == \"Y\":\n",
    "  if size == \"S\":\n",
    "    bill += 2\n",
    "  else:\n",
    "    bill += 3\n",
    "\n",
    "if extra_cheese == \"Y\":\n",
    "  bill += 1\n",
    "\n",
    "print(f\"Your final bill is: ${bill}.\")"
   ]
  },
  {
   "cell_type": "code",
   "execution_count": 19,
   "metadata": {},
   "outputs": [
    {
     "name": "stdout",
     "output_type": "stream",
     "text": [
      "The Love Calculator is calculating your score...\n"
     ]
    },
    {
     "name": "stdin",
     "output_type": "stream",
     "text": [
      " chethan\n",
      " abc\n"
     ]
    },
    {
     "name": "stdout",
     "output_type": "stream",
     "text": [
      "Your score is 21.\n"
     ]
    }
   ],
   "source": [
    "# example 07 love score\n",
    "\n",
    "print(\"The Love Calculator is calculating your score...\")\n",
    "name1 = input()  # What is your name?\n",
    "name2 = input()  # What is their name?\n",
    "# Your code below this line 👇\n",
    "combined_names = name1 + name2\n",
    "lower_names = combined_names.lower()\n",
    "t = lower_names.count(\"t\")\n",
    "r = lower_names.count(\"r\")\n",
    "u = lower_names.count(\"u\")\n",
    "e = lower_names.count(\"e\")\n",
    "first_digit = t + r + u + e\n",
    "\n",
    "l = lower_names.count(\"l\")\n",
    "o = lower_names.count(\"o\")\n",
    "v = lower_names.count(\"v\")\n",
    "e = lower_names.count(\"e\")\n",
    "second_digit = l + o + v + e\n",
    "\n",
    "score = int(str(first_digit) + str(second_digit))\n",
    "if (score < 10) or (score > 90):\n",
    "  print(f\"Your score is {score}, you go together like coke and mentos.\")\n",
    "elif (score >= 40) and (score <= 50):\n",
    "  print(f\"Your score is {score}, you are alright together.\")\n",
    "else:\n",
    "  print(f\"Your score is {score}.\")"
   ]
  }
 ],
 "metadata": {
  "kernelspec": {
   "display_name": "Python 3 (ipykernel)",
   "language": "python",
   "name": "python3"
  },
  "language_info": {
   "codemirror_mode": {
    "name": "ipython",
    "version": 3
   },
   "file_extension": ".py",
   "mimetype": "text/x-python",
   "name": "python",
   "nbconvert_exporter": "python",
   "pygments_lexer": "ipython3",
   "version": "3.12.4"
  }
 },
 "nbformat": 4,
 "nbformat_minor": 4
}
