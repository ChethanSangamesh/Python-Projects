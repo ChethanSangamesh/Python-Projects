{
 "cells": [
  {
   "cell_type": "code",
   "execution_count": null,
   "metadata": {},
   "outputs": [],
   "source": [
    "#Basic print function\n",
    "print(\"Hello World\" \", \" \"I am Chethan\")"
   ]
  },
  {
   "cell_type": "code",
   "execution_count": null,
   "metadata": {},
   "outputs": [],
   "source": [
    "num1 = int(input(\"Enter the first number: \"))\n",
    "num2 = int(input(\"Enter the second number: \"))\n",
    "print(\"The product is:\", num1 * num2)\n",
    "\n"
   ]
  },
  {
   "cell_type": "code",
   "execution_count": null,
   "metadata": {},
   "outputs": [],
   "source": [
    "name =input(\"whats your name\")\n",
    "# lenght function\n",
    "print(len(name))   # get the length of the input name\n",
    "#indexing concept\n",
    "print(name[0]) # its called indexing,which will give the first letter of the input name and index starts from 0\n"
   ]
  },
  {
   "cell_type": "code",
   "execution_count": null,
   "metadata": {},
   "outputs": [],
   "source": [
    "#Day-1 project band name generator \n",
    "\n",
    "print(\"Welcome to the Band Name Generator.\")\n",
    "street = input(\"What's the name of the city you grew up in?\\n\")\n",
    "pet = input(\"What's your pet's name?\\n\")\n",
    "print(\"Your band name could be \" + street + \" \" + pet)"
   ]
  },
  {
   "cell_type": "markdown",
   "metadata": {},
   "source": [
    "DAY -02 "
   ]
  },
  {
   "cell_type": "code",
   "execution_count": null,
   "metadata": {},
   "outputs": [],
   "source": [
    "#DATA TYPES\n",
    "\n",
    "# STRINGS\n",
    "\n",
    "  # %s is used to convert anything to string.\n",
    "print(\"Welcome to the world of %s.\"%'IT')   \n",
    "print('profit is %s.'%2.5)\n",
    "  # %d converts anything to integer\n",
    "print('profit is %d.'%2.5)\n",
    "\n",
    "#Padding and Precision \n",
    "    #%f is a floating point number repesentation.\n",
    "print('profit is %f.'%2.501)\n",
    "print('profit is %5.2f' %2.501)   # 5.2f here 5 is padding (space) and .2 is a precision.\n",
    "\n",
    "#INTEGER\n",
    "print(\"123\" + \"345\")    # its not int its a string and its will concatenate.\n",
    "print(123 + 345)        # its an integer and it will add\n",
    "\n",
    "#FLOATING POINT NUMBER\n",
    "\n",
    "a=123.4\n",
    "print(type(a))\n",
    "print(45 +float(\"123.5\"))\n",
    "\n",
    "#BOOLEAN \n",
    "  # true/false\n",
    "\n",
    "\n",
    "\n",
    "\n",
    "   "
   ]
  },
  {
   "cell_type": "code",
   "execution_count": null,
   "metadata": {},
   "outputs": [],
   "source": [
    "#OTHER FUNCTIONS AND MATHEMATICAL OPERATORS\n",
    "\n",
    "#converting function  example\n",
    "two_digit_number = input()\n",
    "\n",
    "print(type(two_digit_number))\n",
    "first_digit=int(two_digit_number[0])\n",
    "second_digit=int(two_digit_number[1])\n",
    "output=print(first_digit+second_digit)\n",
    "\n",
    "#Round function\n",
    "print(8/3)            # type float & output will be float\n",
    "print(8//3) \t      # type int  &output will be int\n",
    "print (int(8/3))      # output will be int\n",
    "print(round(8/3))     # float type & it will round the number \n",
    "print(round(8/3),2)\t  # round the number by 2 decimal.\n",
    "\n",
    "#example\n",
    "score =0\n",
    "print(\"your scor is\" +score)        # it will show error b/c score is a int and we have to convert this as string to execute so\n",
    "print(\"your scor is\" +str(score))   # output will is correct\n",
    "\n",
    "# Mathematical operations in Phython\n",
    "\t\n",
    "# addition    # 3+6           print(int(3+6))\n",
    "# subtraction\t# 6-5\t\t\t\n",
    "# multplication #3*6 \t\t\tprint(int(3*6))          \n",
    "# division\t# 6/3 \t\t\tprint(float(6/3)), print(round(6/3))     \n",
    "# PEDMAS(Parenthesis,Exponential,Division,Multplication,Subtraction)"
   ]
  },
  {
   "cell_type": "code",
   "execution_count": null,
   "metadata": {},
   "outputs": [],
   "source": [
    "#Body mass Index calculator programme\n",
    "    \n",
    "height = input()\n",
    "weight = input()\n",
    "# Your code below this line 👇\n",
    "weight_as_int = int(weight)\n",
    "height_as_float = float(height)\n",
    "# Using the exponent operator **\n",
    "bmi = weight_as_int / height_as_float ** 2\n",
    "# or using multiplication and PEMDAS\n",
    "bmi = weight_as_int / (height_as_float * height_as_float)\n",
    "\n",
    "bmi_as_int = int(bmi)\n",
    "print(bmi_as_int)   "
   ]
  },
  {
   "cell_type": "code",
   "execution_count": null,
   "metadata": {},
   "outputs": [],
   "source": [
    "# F-STRINGS\n",
    "\t# by using f string we can convert all the other data types to sring\n",
    "age = input()\n",
    "years = 90 - int(age)\n",
    "weeks = years * 52\n",
    "print(f\"You have {weeks} weeks left.\")"
   ]
  },
  {
   "cell_type": "code",
   "execution_count": null,
   "metadata": {},
   "outputs": [],
   "source": [
    "# Final Project of Day 2 -Tip Calculator.\n",
    "\t\t#If the bill was $150.00, split between 5 people, with 12% tip. \n",
    "\t\t#Each person should pay (150.00 / 5) * 1.12 = 33.6\n",
    "\t\t#Round the result to 2 decimal places.\n",
    "\n",
    "\n",
    "\n",
    "print(\"Welcome to the tip calculator!\")\n",
    "bill = float(input(\"What was the total bill? $\"))\n",
    "tip = int(input(\"How much tip would you like to give? 10, 12, or 15? \"))\n",
    "people = int(input(\"How many people to split the bill?\"))\n",
    "\n",
    "tip_as_percent = tip / 100\n",
    "total_tip_amount = bill * tip_as_percent\n",
    "total_bill = bill + total_tip_amount\n",
    "bill_per_person = total_bill / people\n",
    "final_amount = round(bill_per_person, 2)\t\t\t# FAQ: How to round to 2 decimal places?\n",
    "print(f\"each person has to pay {final_amount}\")"
   ]
  },
  {
   "cell_type": "markdown",
   "metadata": {},
   "source": [
    "DAY-03"
   ]
  },
  {
   "cell_type": "code",
   "execution_count": null,
   "metadata": {},
   "outputs": [],
   "source": []
  }
 ],
 "metadata": {
  "kernelspec": {
   "display_name": "Python 3",
   "language": "python",
   "name": "python3"
  },
  "language_info": {
   "codemirror_mode": {
    "name": "ipython",
    "version": 3
   },
   "file_extension": ".py",
   "mimetype": "text/x-python",
   "name": "python",
   "nbconvert_exporter": "python",
   "pygments_lexer": "ipython3",
   "version": "3.12.3"
  }
 },
 "nbformat": 4,
 "nbformat_minor": 2
}
